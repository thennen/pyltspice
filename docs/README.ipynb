{
 "cells": [
  {
   "cell_type": "markdown",
   "id": "6e3b0347-9b54-4f8b-a68e-11cd48bdb1cb",
   "metadata": {},
   "source": [
    "# pyltspice"
   ]
  },
  {
   "cell_type": "markdown",
   "id": "04c89bbf-3c24-4ff4-a550-ccdde95a24a7",
   "metadata": {},
   "source": [
    "This is something I put together to automate and analyze my LTspice simulations in Python.\n",
    "\n",
    "There are some existing libraries out there for this, such as [this](https://pypi.org/project/PyLTSpice/) more fully-featured project of the same name, but at the time I couldn't find one that worked for me.\n",
    "\n",
    "This project takes a lightweight, functional approach. It is structured as a single module (.py file) that contains \n",
    "a set of functions that output SPICE code, operate on netlists, dispatch LTspice, and parse the various output files."
   ]
  },
  {
   "cell_type": "markdown",
   "id": "6c3e44eb-6e48-4aea-b569-7878b18eb6de",
   "metadata": {},
   "source": [
    "## Installation"
   ]
  },
  {
   "cell_type": "markdown",
   "id": "02063962-b3a9-4e7d-b1a0-a45a04c01b45",
   "metadata": {},
   "source": [
    "This package is not registered on PyPI.  To install,\n",
    "\n",
    "1. Clone/download this repo\n",
    "3. Run `pip install .` inside the pyltspice directory.\n",
    "\n",
    "You will also need to install LTspice (XVII or later)."
   ]
  },
  {
   "cell_type": "markdown",
   "id": "0f228e3a-dd90-4bd1-9593-ece725db04f8",
   "metadata": {},
   "source": [
    "## How to use"
   ]
  },
  {
   "cell_type": "code",
   "execution_count": 1,
   "id": "73844bda-f81f-4944-bd29-790dbddbc397",
   "metadata": {},
   "outputs": [
    {
     "name": "stdout",
     "output_type": "stream",
     "text": [
      "Simulation files will be stored at C:\\Users\\t\\ltspice_sims.  To change, overwrite the simfolder variable\n"
     ]
    }
   ],
   "source": [
    "import pyltspice\n",
    "from pyltspice import *"
   ]
  },
  {
   "cell_type": "markdown",
   "id": "942c8b6c-2c62-48aa-9b21-a15cfcb82b20",
   "metadata": {},
   "source": [
    "Here's how you can change the output directory:"
   ]
  },
  {
   "cell_type": "code",
   "execution_count": 2,
   "id": "293425a9-877a-468d-ae2b-5c2a5d660348",
   "metadata": {},
   "outputs": [],
   "source": [
    "pyltspice.simfolder = r'C:\\Users\\t\\ltspice_sims'"
   ]
  },
  {
   "attachments": {},
   "cell_type": "markdown",
   "id": "582b104f-b8dc-4960-bbb6-e8d8086993cd",
   "metadata": {},
   "source": [
    "We represent netlists in python as a list of strings.  You may write them directly in python or read them from a file using the function `netlist_fromfile()`.\n",
    "\n",
    "I drew this very interesting example circuit in the LTspice GUI: \n"
   ]
  },
  {
   "cell_type": "markdown",
   "id": "96421cfd-ed0f-45b5-be62-dcc13244ada1",
   "metadata": {},
   "source": [
    "<img src=\"images/LCR.png\" width=300>"
   ]
  },
  {
   "cell_type": "markdown",
   "id": "01bb4401-064d-467d-9d7c-90e86aecf875",
   "metadata": {},
   "source": [
    "We work with SPICE netlists, not the PCB manufacturing formats now in the export options of recent LTspice versions.  For those, you can get a SPICE netlist from the GUI using `View → Spice NETLIST`, then copy-paste the text.\n",
    "\n",
    "The netlist for the circuit above is included in this repository, and its path is stored in the variable `netlist_path`"
   ]
  },
  {
   "cell_type": "code",
   "execution_count": 3,
   "id": "18915377-4d47-4bf4-a91b-e519982d0b7e",
   "metadata": {},
   "outputs": [
    {
     "data": {
      "text/plain": [
       "['* Example netlist',\n",
       " 'V1 in 0 PULSE(0 5 1m 1n 1n 10m)',\n",
       " 'R1 in N001 {R}',\n",
       " 'L1 N001 N002 {L}',\n",
       " 'C1 N002 0 {C}',\n",
       " '.PARAM C=1e-6',\n",
       " '.PARAM L=1e-3',\n",
       " '.PARAM R=1',\n",
       " '.tran 0 10m 0',\n",
       " '.backanno',\n",
       " '.end']"
      ]
     },
     "execution_count": 3,
     "metadata": {},
     "output_type": "execute_result"
    }
   ],
   "source": [
    "netlist = netlist_fromfile(netlist_path)\n",
    "netlist"
   ]
  },
  {
   "attachments": {},
   "cell_type": "markdown",
   "id": "e142fae2-987d-4204-9beb-d286dec48879",
   "metadata": {},
   "source": [
    "These netlists can be passed to the function `runspice()`, which writes the netlist to a file, executes it with LTspice,\n",
    "reads the output binary file and returns the simulation results as a dictionary.\n"
   ]
  },
  {
   "cell_type": "code",
   "execution_count": 4,
   "id": "7bf8fdcd-6ff5-4880-8e4d-a6d81a9e2188",
   "metadata": {},
   "outputs": [
    {
     "name": "stdout",
     "output_type": "stream",
     "text": [
      "Writing C:\\Users\\t\\ltspice_sims\\2024-09-03_161937_288_Example_netlist.net\n",
      "Executing C:\\Users\\t\\ltspice_sims\\2024-09-03_161937_288_Example_netlist.net\n",
      "Reading C:\\Users\\t\\ltspice_sims\\2024-09-03_161937_288_Example_netlist.raw\n",
      "Reading C:\\Users\\t\\ltspice_sims\\2024-09-03_161937_288_Example_netlist.log\n",
      "Reading C:\\Users\\t\\ltspice_sims\\2024-09-03_161937_288_Example_netlist.net\n"
     ]
    }
   ],
   "source": [
    "data = runspice(netlist)"
   ]
  },
  {
   "cell_type": "markdown",
   "id": "64ab9f35-02c9-4361-9d54-15b74aae97e2",
   "metadata": {},
   "source": [
    "The returned data combines information from the output .log file and the binary (.raw) file, and also includes the netlist and other metadata.\n",
    "\n",
    "Here's what it looks like:"
   ]
  },
  {
   "cell_type": "code",
   "execution_count": 5,
   "id": "bd4fcad0-2fff-4113-a405-3a89ab251cc9",
   "metadata": {},
   "outputs": [
    {
     "data": {
      "text/plain": [
       "filepath          C:\\Users\\t\\ltspice_sims\\2024-09-03_161937_288_...\n",
       "Title                                             * Example netlist\n",
       "Date                                       Tue Sep  3 16:19:37 2024\n",
       "Plotname                                         Transient Analysis\n",
       "Flags                                                  real forward\n",
       "No. Variables                                                     8\n",
       "No. Points                                                      932\n",
       "Offset                                       0.0000000000000000e+00\n",
       "Command                       Linear Technology Corporation LTspice\n",
       "time              [0.0, 0.001, 0.0010000001606947238, 0.00100000...\n",
       "V(in)             [0.0, 0.0, 0.8034736, 1.6069472, 3.1470428, 5....\n",
       "V(n001)           [0.0, 0.0, 0.80347353, 1.606947, 3.1470416, 4....\n",
       "V(n002)           [0.0, 0.0, 8.4442574e-12, 5.3361017e-11, 3.171...\n",
       "I(C1)             [0.0, 0.0, 7.907755e-08, 3.191806e-07, 1.13626...\n",
       "I(L1)             [0.0, 0.0, 7.907755e-08, 3.191806e-07, 1.13626...\n",
       "I(R1)             [0.0, 0.0, 7.907755e-08, 3.191806e-07, 1.13626...\n",
       "I(V1)             [0.0, 0.0, -7.907755e-08, -3.191806e-07, -1.13...\n",
       "netlist           [* Example netlist, V1 in 0 PULSE(0 5 1m 1n 1n...\n",
       "C                                                          0.000001\n",
       "L                                                             0.001\n",
       "R                                                               1.0\n",
       "sim_time                                                      0.007\n",
       "solver                                                       Normal\n",
       "method                                                modified trap\n",
       "WARNING                                                        None\n",
       "sim_time_total                                             0.414094\n",
       "dtype: object"
      ]
     },
     "execution_count": 5,
     "metadata": {},
     "output_type": "execute_result"
    }
   ],
   "source": [
    "# pandas used here just for prettier printing\n",
    "import pandas as pd\n",
    "pd.Series(data)"
   ]
  },
  {
   "cell_type": "markdown",
   "id": "530264e8-546a-476e-9258-abcde4a3470b",
   "metadata": {},
   "source": [
    "Note that there is some overhead to do the simulation including the file IO:"
   ]
  },
  {
   "cell_type": "code",
   "execution_count": 6,
   "id": "0b334711-eb9a-443d-a7b5-fc2e39d42042",
   "metadata": {},
   "outputs": [
    {
     "name": "stdout",
     "output_type": "stream",
     "text": [
      "Extra time needed: 0.407 s\n"
     ]
    }
   ],
   "source": [
    "dt = data['sim_time_total'] - data['sim_time']\n",
    "print(f'Extra time needed: {dt:.3f} s')"
   ]
  },
  {
   "cell_type": "markdown",
   "id": "b8cbb09c-da7e-429a-b472-a4ae290000e2",
   "metadata": {},
   "source": [
    "Repeated runs of the same netlist will use the already existing result, which will be faster."
   ]
  },
  {
   "cell_type": "code",
   "execution_count": 7,
   "id": "c9244956-3954-4bce-8faa-fd989404b5b3",
   "metadata": {},
   "outputs": [
    {
     "name": "stdout",
     "output_type": "stream",
     "text": [
      "Reading the previous result of a matching simulation from disk\n",
      "Reading C:\\Users\\t\\ltspice_sims\\2024-09-03_161937_288_Example_netlist.raw\n",
      "Reading C:\\Users\\t\\ltspice_sims\\2024-09-03_161937_288_Example_netlist.log\n",
      "Reading C:\\Users\\t\\ltspice_sims\\2024-09-03_161937_288_Example_netlist.net\n"
     ]
    }
   ],
   "source": [
    "data = runspice(netlist)"
   ]
  },
  {
   "cell_type": "markdown",
   "id": "0cff8330-16ca-4860-9bb3-72e0a9e1370f",
   "metadata": {},
   "source": [
    "Plot the results"
   ]
  },
  {
   "cell_type": "code",
   "execution_count": 8,
   "id": "2f407436-afef-4390-966e-9fae65cac7cf",
   "metadata": {},
   "outputs": [
    {
     "data": {
      "image/png": "[encoded data removed]",
      "text/plain": [
       "<Figure size 400x200 with 1 Axes>"
      ]
     },
     "metadata": {},
     "output_type": "display_data"
    }
   ],
   "source": [
    "%matplotlib inline\n",
    "from matplotlib import pyplot as plt\n",
    "t = data['time']\n",
    "I = data['I(R1)']\n",
    "plt.figure(figsize=(4,2))\n",
    "plt.plot(t * 1e3, I * 1e3)\n",
    "plt.xlabel('Time [ms]')\n",
    "plt.ylabel('Current [mA]');"
   ]
  },
  {
   "cell_type": "markdown",
   "id": "27fcf022-bc22-4b69-86d8-aaa0052fb0da",
   "metadata": {},
   "source": [
    "If you are annoyed by the print statements, you can deactivate them like this:"
   ]
  },
  {
   "cell_type": "code",
   "execution_count": 9,
   "id": "4c573f25-7eb9-483a-bef9-205eba820c76",
   "metadata": {},
   "outputs": [],
   "source": [
    "pyltspice.verbose = False"
   ]
  },
  {
   "cell_type": "markdown",
   "id": "ea632954-47d5-467b-9002-37df3d8af487",
   "metadata": {},
   "source": [
    "From here, you *could* just modify the netlists directly through list and string operations.\n",
    "\n",
    "But we also have a set of python functions that evaluate to spice code (strings).  These should be a little more convenient than writing the spice directly.  Only some of the common spice commands are implemented currently, but you are welcome to extend it.\n",
    "\n",
    "For example:"
   ]
  },
  {
   "cell_type": "code",
   "execution_count": 10,
   "id": "910fbbc2-74e0-44c9-94cf-e812bee6040e",
   "metadata": {},
   "outputs": [
    {
     "data": {
      "text/plain": [
       "'R1 0 N001 300'"
      ]
     },
     "execution_count": 10,
     "metadata": {},
     "output_type": "execute_result"
    }
   ],
   "source": [
    "resistor(num=1, cathode=0, anode='N001', val=300)"
   ]
  },
  {
   "cell_type": "code",
   "execution_count": 11,
   "id": "47a5a96f-b911-4eff-9970-fc0b460b68f1",
   "metadata": {},
   "outputs": [
    {
     "data": {
      "text/plain": [
       "'SINE(0 2 1000.0 0.001 0 0 )'"
      ]
     },
     "execution_count": 11,
     "metadata": {},
     "output_type": "execute_result"
    }
   ],
   "source": [
    "sine(freq=1e3, amp=2, delay=1e-3)"
   ]
  },
  {
   "cell_type": "markdown",
   "id": "bc77b6ca-2f8b-4374-b948-c30978c9456c",
   "metadata": {},
   "source": [
    "There are also functions for inserting new commands into existing netlists.\n",
    "\n",
    "The main function to use is `netchange()`, which takes a netlist as the first argument and incorporates more lines passed as additional arguments. For each input line, it decides whether to add a new line to the netlist or to overwrite an existing line.  You can pass it individual lines as strings,  partial netlists as lists of strings, or both.\n",
    "\n",
    "Input netlists are never modified.  Rather, new netlists are always returned by the functions."
   ]
  },
  {
   "cell_type": "markdown",
   "id": "535af74d-ef8e-45fc-aa47-e7253396462d",
   "metadata": {},
   "source": [
    "For example, to change a parameter,"
   ]
  },
  {
   "cell_type": "code",
   "execution_count": 18,
   "id": "f8bef7bf-d603-4e00-ade5-3531c09db28d",
   "metadata": {},
   "outputs": [
    {
     "data": {
      "text/plain": [
       "['* Example netlist',\n",
       " 'V1 in 0 PULSE(0 5 1m 1n 1n 10m)',\n",
       " 'R1 in N001 {R}',\n",
       " 'L1 N001 N002 {L}',\n",
       " 'C1 N002 0 {C}',\n",
       " '.PARAM C=1e-6',\n",
       " '.PARAM L=1e-3',\n",
       " '.PARAM R=3.3',\n",
       " '.tran 0 10m 0',\n",
       " '.backanno',\n",
       " '.end']"
      ]
     },
     "execution_count": 18,
     "metadata": {},
     "output_type": "execute_result"
    }
   ],
   "source": [
    "netchange(netlist, R=3.3)"
   ]
  },
  {
   "cell_type": "markdown",
   "id": "0ba08d03-919a-46c8-b0b8-acb20f3e3f09",
   "metadata": {},
   "source": [
    "to add a circuit element,"
   ]
  },
  {
   "cell_type": "code",
   "execution_count": 21,
   "id": "891f13bd-a24d-412d-977e-d85bf684ca64",
   "metadata": {},
   "outputs": [
    {
     "data": {
      "text/plain": [
       "['* Example netlist',\n",
       " 'V1 in 0 PULSE(0 5 1m 1n 1n 10m)',\n",
       " 'R1 in N001 {R}',\n",
       " 'R2 in 0 50',\n",
       " 'L1 N001 N002 {L}',\n",
       " 'C1 N002 0 {C}',\n",
       " '.PARAM C=1e-6',\n",
       " '.PARAM L=1e-3',\n",
       " '.PARAM R=1',\n",
       " '.tran 0 10m 0',\n",
       " '.backanno',\n",
       " '.end']"
      ]
     },
     "execution_count": 21,
     "metadata": {},
     "output_type": "execute_result"
    }
   ],
   "source": [
    "netchange(netlist, resistor(2, 'in', 0, 50))"
   ]
  },
  {
   "cell_type": "markdown",
   "id": "3b5dfdcd-ef2b-4caa-9b18-b28ac44e455a",
   "metadata": {},
   "source": [
    "You can add as many lines as you want:"
   ]
  },
  {
   "cell_type": "code",
   "execution_count": 46,
   "id": "485589ba-23f8-45b6-bf14-581ddedba532",
   "metadata": {},
   "outputs": [
    {
     "name": "stdout",
     "output_type": "stream",
     "text": [
      "* test\n",
      "V1 in 0 PULSE(0 5 1m 1n 1n 10m)\n",
      "V2 N002 N003 PULSE(0 4 0.002 1e-09 1e-09 0.001 0.003000002 )\n",
      "R1 in N001 {R}\n",
      "L1 N001 N002 {L}\n",
      "C1 N003 0 {C}\n",
      ".PARAM C=2e-06\n",
      ".PARAM L=0.002\n",
      ".PARAM R=1\n",
      ".tran 0 0.005 0 0.0001\n",
      ".backanno\n",
      ".end\n"
     ]
    },
    {
     "data": {
      "image/png": "[encoded data removed]",
      "text/plain": [
       "<Figure size 400x200 with 1 Axes>"
      ]
     },
     "metadata": {},
     "output_type": "display_data"
    }
   ],
   "source": [
    "newnet = netchange(netlist,\n",
    "                      '* test',\n",
    "                      capacitor(1, 'N003', 0, '{C}'),\n",
    "                      voltage_source(2, 'N002', 'N003', pulse(0, 4, 1e-9, 1e-3, 1e-9, delay=2e-3)),\n",
    "                      transient(0, 5e-3),\n",
    "                      L=2e-3,\n",
    "                      C=2e-6\n",
    "                      )\n",
    "\n",
    "print('\\n'.join(newnet))\n",
    "newdata = runspice(newnet)\n",
    "\n",
    "t = newdata['time']\n",
    "I = newdata['I(R1)']\n",
    "plt.figure(figsize=(4,2))\n",
    "plt.plot(t * 1e3, I * 1e3)\n",
    "plt.xlabel('Time [ms]')\n",
    "plt.ylabel('Current [mA]');"
   ]
  },
  {
   "cell_type": "markdown",
   "id": "5de8609e-51df-4dc8-ba50-846ebaaddc5d",
   "metadata": {},
   "source": [
    "Now we can automate our simulation runs and get back a useful data structure for further analysis.  \n",
    "\n",
    "For example, here we vary all the parameters by ±50%:"
   ]
  },
  {
   "cell_type": "code",
   "execution_count": 14,
   "id": "5078fd74-e5b4-4b9c-b20a-41a208897651",
   "metadata": {},
   "outputs": [],
   "source": [
    "datalist = []\n",
    "for name, value in get_params(netlist).items():\n",
    "    for v in np.linspace(0.5 * value, 1.5 * value, 5):\n",
    "        data = runspice(netchange(netlist, param(name, v)));\n",
    "        datalist.append(data)"
   ]
  },
  {
   "cell_type": "code",
   "execution_count": 15,
   "id": "aa44cd92-d107-4109-a36c-fd76d1b6e91e",
   "metadata": {},
   "outputs": [
    {
     "data": {
      "text/html": [
       "<div>\n",
       "<style scoped>\n",
       "    .dataframe tbody tr th:only-of-type {\n",
       "        vertical-align: middle;\n",
       "    }\n",
       "\n",
       "    .dataframe tbody tr th {\n",
       "        vertical-align: top;\n",
       "    }\n",
       "\n",
       "    .dataframe thead th {\n",
       "        text-align: right;\n",
       "    }\n",
       "</style>\n",
       "<table border=\"1\" class=\"dataframe\">\n",
       "  <thead>\n",
       "    <tr style=\"text-align: right;\">\n",
       "      <th></th>\n",
       "      <th>R</th>\n",
       "      <th>L</th>\n",
       "      <th>C</th>\n",
       "      <th>sim_time</th>\n",
       "      <th>time</th>\n",
       "      <th>I(R1)</th>\n",
       "    </tr>\n",
       "  </thead>\n",
       "  <tbody>\n",
       "    <tr>\n",
       "      <th>0</th>\n",
       "      <td>1.00</td>\n",
       "      <td>0.00100</td>\n",
       "      <td>5.000000e-07</td>\n",
       "      <td>0.008</td>\n",
       "      <td>[0.0, 0.001, 0.0010000001606947238, 0.00100000...</td>\n",
       "      <td>[0.0, 0.0, 7.907755e-08, 3.191806e-07, 1.13626...</td>\n",
       "    </tr>\n",
       "    <tr>\n",
       "      <th>1</th>\n",
       "      <td>1.00</td>\n",
       "      <td>0.00100</td>\n",
       "      <td>7.500000e-07</td>\n",
       "      <td>0.008</td>\n",
       "      <td>[0.0, 0.001, 0.0010000001606947238, 0.00100000...</td>\n",
       "      <td>[0.0, 0.0, 7.907755e-08, 3.191806e-07, 1.13626...</td>\n",
       "    </tr>\n",
       "    <tr>\n",
       "      <th>2</th>\n",
       "      <td>1.00</td>\n",
       "      <td>0.00100</td>\n",
       "      <td>1.000000e-06</td>\n",
       "      <td>0.014</td>\n",
       "      <td>[0.0, 0.001, 0.0010000001606947238, 0.00100000...</td>\n",
       "      <td>[0.0, 0.0, 7.907755e-08, 3.191806e-07, 1.13626...</td>\n",
       "    </tr>\n",
       "    <tr>\n",
       "      <th>3</th>\n",
       "      <td>1.00</td>\n",
       "      <td>0.00100</td>\n",
       "      <td>1.250000e-06</td>\n",
       "      <td>0.009</td>\n",
       "      <td>[0.0, 0.001, 0.0010000001606947238, 0.00100000...</td>\n",
       "      <td>[0.0, 0.0, 7.907755e-08, 3.191806e-07, 1.13626...</td>\n",
       "    </tr>\n",
       "    <tr>\n",
       "      <th>4</th>\n",
       "      <td>1.00</td>\n",
       "      <td>0.00100</td>\n",
       "      <td>1.500000e-06</td>\n",
       "      <td>0.009</td>\n",
       "      <td>[0.0, 0.001, 0.0010000001606947238, 0.00100000...</td>\n",
       "      <td>[0.0, 0.0, 7.907755e-08, 3.191806e-07, 1.13626...</td>\n",
       "    </tr>\n",
       "    <tr>\n",
       "      <th>5</th>\n",
       "      <td>1.00</td>\n",
       "      <td>0.00050</td>\n",
       "      <td>1.000000e-06</td>\n",
       "      <td>0.009</td>\n",
       "      <td>[0.0, 0.001, 0.0010000000229959374, 0.00100000...</td>\n",
       "      <td>[0.0, 0.0, 3.2065541e-09, 6.207098e-09, 1.5922...</td>\n",
       "    </tr>\n",
       "    <tr>\n",
       "      <th>6</th>\n",
       "      <td>1.00</td>\n",
       "      <td>0.00075</td>\n",
       "      <td>1.000000e-06</td>\n",
       "      <td>0.009</td>\n",
       "      <td>[0.0, 0.001, 0.001000000160694725, 0.001000000...</td>\n",
       "      <td>[0.0, 0.0, 1.0543673e-07, 4.255741e-07, 1.5150...</td>\n",
       "    </tr>\n",
       "    <tr>\n",
       "      <th>7</th>\n",
       "      <td>1.00</td>\n",
       "      <td>0.00100</td>\n",
       "      <td>1.000000e-06</td>\n",
       "      <td>0.008</td>\n",
       "      <td>[0.0, 0.001, 0.0010000001606947238, 0.00100000...</td>\n",
       "      <td>[0.0, 0.0, 7.907755e-08, 3.1918057e-07, 1.1362...</td>\n",
       "    </tr>\n",
       "    <tr>\n",
       "      <th>8</th>\n",
       "      <td>1.00</td>\n",
       "      <td>0.00125</td>\n",
       "      <td>1.000000e-06</td>\n",
       "      <td>0.007</td>\n",
       "      <td>[0.0, 0.001, 0.001000000160694725, 0.001000000...</td>\n",
       "      <td>[0.0, 0.0, 6.326204e-08, 2.5534447e-07, 9.0901...</td>\n",
       "    </tr>\n",
       "    <tr>\n",
       "      <th>9</th>\n",
       "      <td>1.00</td>\n",
       "      <td>0.00150</td>\n",
       "      <td>1.000000e-06</td>\n",
       "      <td>0.008</td>\n",
       "      <td>[0.0, 0.001, 0.0010000001606947245, 0.00100000...</td>\n",
       "      <td>[0.0, 0.0, 5.2718367e-08, 2.1278707e-07, 7.575...</td>\n",
       "    </tr>\n",
       "    <tr>\n",
       "      <th>10</th>\n",
       "      <td>0.50</td>\n",
       "      <td>0.00100</td>\n",
       "      <td>1.000000e-06</td>\n",
       "      <td>0.008</td>\n",
       "      <td>[0.0, 0.001, 0.001000000160694724, 0.001000000...</td>\n",
       "      <td>[0.0, 0.0, 7.907756e-08, 3.1918063e-07, 1.1362...</td>\n",
       "    </tr>\n",
       "    <tr>\n",
       "      <th>11</th>\n",
       "      <td>0.75</td>\n",
       "      <td>0.00100</td>\n",
       "      <td>1.000000e-06</td>\n",
       "      <td>0.008</td>\n",
       "      <td>[0.0, 0.001, 0.001000000160694725, 0.001000000...</td>\n",
       "      <td>[0.0, 0.0, 7.907755e-08, 3.191806e-07, 1.13626...</td>\n",
       "    </tr>\n",
       "    <tr>\n",
       "      <th>12</th>\n",
       "      <td>1.00</td>\n",
       "      <td>0.00100</td>\n",
       "      <td>1.000000e-06</td>\n",
       "      <td>0.007</td>\n",
       "      <td>[0.0, 0.001, 0.0010000001606947238, 0.00100000...</td>\n",
       "      <td>[0.0, 0.0, 7.907755e-08, 3.191806e-07, 1.13626...</td>\n",
       "    </tr>\n",
       "    <tr>\n",
       "      <th>13</th>\n",
       "      <td>1.25</td>\n",
       "      <td>0.00100</td>\n",
       "      <td>1.000000e-06</td>\n",
       "      <td>0.008</td>\n",
       "      <td>[0.0, 0.001, 0.0010000001606947247, 0.00100000...</td>\n",
       "      <td>[0.0, 0.0, 7.907755e-08, 3.1918057e-07, 1.1362...</td>\n",
       "    </tr>\n",
       "    <tr>\n",
       "      <th>14</th>\n",
       "      <td>1.50</td>\n",
       "      <td>0.00100</td>\n",
       "      <td>1.000000e-06</td>\n",
       "      <td>0.008</td>\n",
       "      <td>[0.0, 0.001, 0.0010000001606947253, 0.00100000...</td>\n",
       "      <td>[0.0, 0.0, 7.907755e-08, 3.1918057e-07, 1.1362...</td>\n",
       "    </tr>\n",
       "  </tbody>\n",
       "</table>\n",
       "</div>"
      ],
      "text/plain": [
       "       R        L             C  sim_time                                               time                                              I(R1)\n",
       "0   1.00  0.00100  5.000000e-07     0.008  [0.0, 0.001, 0.0010000001606947238, 0.00100000...  [0.0, 0.0, 7.907755e-08, 3.191806e-07, 1.13626...\n",
       "1   1.00  0.00100  7.500000e-07     0.008  [0.0, 0.001, 0.0010000001606947238, 0.00100000...  [0.0, 0.0, 7.907755e-08, 3.191806e-07, 1.13626...\n",
       "2   1.00  0.00100  1.000000e-06     0.014  [0.0, 0.001, 0.0010000001606947238, 0.00100000...  [0.0, 0.0, 7.907755e-08, 3.191806e-07, 1.13626...\n",
       "3   1.00  0.00100  1.250000e-06     0.009  [0.0, 0.001, 0.0010000001606947238, 0.00100000...  [0.0, 0.0, 7.907755e-08, 3.191806e-07, 1.13626...\n",
       "4   1.00  0.00100  1.500000e-06     0.009  [0.0, 0.001, 0.0010000001606947238, 0.00100000...  [0.0, 0.0, 7.907755e-08, 3.191806e-07, 1.13626...\n",
       "5   1.00  0.00050  1.000000e-06     0.009  [0.0, 0.001, 0.0010000000229959374, 0.00100000...  [0.0, 0.0, 3.2065541e-09, 6.207098e-09, 1.5922...\n",
       "6   1.00  0.00075  1.000000e-06     0.009  [0.0, 0.001, 0.001000000160694725, 0.001000000...  [0.0, 0.0, 1.0543673e-07, 4.255741e-07, 1.5150...\n",
       "7   1.00  0.00100  1.000000e-06     0.008  [0.0, 0.001, 0.0010000001606947238, 0.00100000...  [0.0, 0.0, 7.907755e-08, 3.1918057e-07, 1.1362...\n",
       "8   1.00  0.00125  1.000000e-06     0.007  [0.0, 0.001, 0.001000000160694725, 0.001000000...  [0.0, 0.0, 6.326204e-08, 2.5534447e-07, 9.0901...\n",
       "9   1.00  0.00150  1.000000e-06     0.008  [0.0, 0.001, 0.0010000001606947245, 0.00100000...  [0.0, 0.0, 5.2718367e-08, 2.1278707e-07, 7.575...\n",
       "10  0.50  0.00100  1.000000e-06     0.008  [0.0, 0.001, 0.001000000160694724, 0.001000000...  [0.0, 0.0, 7.907756e-08, 3.1918063e-07, 1.1362...\n",
       "11  0.75  0.00100  1.000000e-06     0.008  [0.0, 0.001, 0.001000000160694725, 0.001000000...  [0.0, 0.0, 7.907755e-08, 3.191806e-07, 1.13626...\n",
       "12  1.00  0.00100  1.000000e-06     0.007  [0.0, 0.001, 0.0010000001606947238, 0.00100000...  [0.0, 0.0, 7.907755e-08, 3.191806e-07, 1.13626...\n",
       "13  1.25  0.00100  1.000000e-06     0.008  [0.0, 0.001, 0.0010000001606947247, 0.00100000...  [0.0, 0.0, 7.907755e-08, 3.1918057e-07, 1.1362...\n",
       "14  1.50  0.00100  1.000000e-06     0.008  [0.0, 0.001, 0.0010000001606947253, 0.00100000...  [0.0, 0.0, 7.907755e-08, 3.1918057e-07, 1.1362..."
      ]
     },
     "execution_count": 15,
     "metadata": {},
     "output_type": "execute_result"
    }
   ],
   "source": [
    "pd.DataFrame(datalist)[['R', 'L', 'C', 'sim_time', 'time', 'I(R1)']]"
   ]
  },
  {
   "cell_type": "code",
   "execution_count": 20,
   "id": "614e7a58-669c-409b-87ec-5b08a4ffbfeb",
   "metadata": {},
   "outputs": [
    {
     "data": {
      "text/plain": [
       "(0.9, 5.0)"
      ]
     },
     "execution_count": 20,
     "metadata": {},
     "output_type": "execute_result"
    },
    {
     "data": {
      "image/png": "[encoded data removed]",
      "text/plain": [
       "<Figure size 400x200 with 1 Axes>"
      ]
     },
     "metadata": {},
     "output_type": "display_data"
    }
   ],
   "source": [
    "plt.figure(figsize=(4,2))\n",
    "plt.xlabel('Time [ms]')\n",
    "plt.ylabel('Current [mA]');\n",
    "for data in datalist:\n",
    "    plt.plot(data['time'] * 1e3, data['I(R1)'] * 1e3)\n",
    "plt.xlim(0.9, 5)"
   ]
  },
  {
   "cell_type": "markdown",
   "id": "58126a36-862e-4a35-8452-ae5135d4ea37",
   "metadata": {},
   "source": [
    "### Notes"
   ]
  },
  {
   "cell_type": "markdown",
   "id": "fc973dd2-a2db-4bf5-bfb3-d69dd229c4a8",
   "metadata": {},
   "source": [
    "I would not call this production-ready.  If in doubt, use [PyLTSpice](https://pypi.org/project/PyLTSpice/).\n",
    "\n",
    "We have had some success using multiprocessing to increase the speed when running many simulations, but that code is not included yet.\n",
    "\n",
    "Error handling is not very sophisticated.  If you write an error in your netlist, sometimes python just hangs while it waits for LTspice to respond.  In this case, use task manager to end the SPICE Simulator."
   ]
  }
 ],
 "metadata": {
  "kernelspec": {
   "display_name": "Python 3 (ipykernel)",
   "language": "python",
   "name": "python3"
  },
  "language_info": {
   "codemirror_mode": {
    "name": "ipython",
    "version": 3
   },
   "file_extension": ".py",
   "mimetype": "text/x-python",
   "name": "python",
   "nbconvert_exporter": "python",
   "pygments_lexer": "ipython3",
   "version": "3.11.7"
  }
 },
 "nbformat": 4,
 "nbformat_minor": 5
}
